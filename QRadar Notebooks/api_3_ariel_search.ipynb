{
 "cells": [
  {
   "cell_type": "markdown",
   "id": "d310029e",
   "metadata": {},
   "source": [
    "# QRadar Ariel Search API"
   ]
  },
  {
   "cell_type": "markdown",
   "id": "2d73ed53",
   "metadata": {},
   "source": [
    "https://diaryofarjun.com"
   ]
  },
  {
   "cell_type": "code",
   "execution_count": 1,
   "id": "24d26d4e",
   "metadata": {},
   "outputs": [],
   "source": [
    "import requests\n",
    "import pandas\n",
    "import time"
   ]
  },
  {
   "cell_type": "code",
   "execution_count": 2,
   "id": "404a700f",
   "metadata": {},
   "outputs": [],
   "source": [
    "SEC_TOKEN = 'XYZ'"
   ]
  },
  {
   "cell_type": "code",
   "execution_count": 3,
   "id": "e4aa9d99",
   "metadata": {},
   "outputs": [],
   "source": [
    "header = {\n",
    "    'SEC':SEC_TOKEN,\n",
    "    'Content-Type':'application/json',\n",
    "    'accept':'application/json'\n",
    "}"
   ]
  },
  {
   "cell_type": "code",
   "execution_count": 4,
   "id": "6147af8d",
   "metadata": {},
   "outputs": [],
   "source": [
    "def do_request(method, url, params={}):\n",
    "    r = requests.request(method=method, url=url, params=params, headers=header, verify=False)\n",
    "    return r.json()"
   ]
  },
  {
   "cell_type": "code",
   "execution_count": 5,
   "id": "bbadcb90",
   "metadata": {},
   "outputs": [],
   "source": [
    "def check_status(search_status, search_id):\n",
    "    if search_status==\"COMPLETED\":\n",
    "        print(\"Search Completed\")\n",
    "        method = \"GET\"\n",
    "        url = 'https://192.168.56.144/api/ariel/searches/%s/results' % search_id\n",
    "        return do_request(method, url)\n",
    "    else:\n",
    "        print(\"Waiting for 3 seconds...\")\n",
    "        time.sleep(3)\n",
    "        method = \"GET\"\n",
    "        url = 'https://192.168.56.144/api/ariel/searches/%s' % search_id\n",
    "        resp_json = do_request(method, url)\n",
    "        return check_status(resp_json['status'], search_id)"
   ]
  },
  {
   "cell_type": "code",
   "execution_count": 6,
   "id": "6d801d90",
   "metadata": {},
   "outputs": [
    {
     "data": {
      "text/plain": [
       "dict"
      ]
     },
     "execution_count": 6,
     "metadata": {},
     "output_type": "execute_result"
    }
   ],
   "source": [
    "# Saved Search\n",
    "url = 'https://192.168.56.144/api/ariel/saved_searches'\n",
    "params = {'filter':'name=\"Top Log Sources\"'}\n",
    "type(params)"
   ]
  },
  {
   "cell_type": "code",
   "execution_count": 7,
   "id": "bdea0cf2",
   "metadata": {
    "scrolled": true
   },
   "outputs": [
    {
     "name": "stderr",
     "output_type": "stream",
     "text": [
      "/Library/Frameworks/Python.framework/Versions/3.9/lib/python3.9/site-packages/urllib3/connectionpool.py:1013: InsecureRequestWarning: Unverified HTTPS request is being made to host '192.168.56.144'. Adding certificate verification is strongly advised. See: https://urllib3.readthedocs.io/en/1.26.x/advanced-usage.html#ssl-warnings\n",
      "  warnings.warn(\n"
     ]
    },
    {
     "data": {
      "text/plain": [
       "[{'owner': 'admin',\n",
       "  'is_dashboard': True,\n",
       "  'description': '',\n",
       "  'creation_date': 1245191315681,\n",
       "  'uid': 'SYSTEM-13',\n",
       "  'database': 'EVENTS',\n",
       "  'is_default': False,\n",
       "  'is_quick_search': True,\n",
       "  'name': 'Top Log Sources',\n",
       "  'modified_date': 1622547778276,\n",
       "  'id': 2721,\n",
       "  'is_aggregate': True,\n",
       "  'aql': 'SELECT logsourcename(logSourceId) AS \\'Log Source\\', UniqueCount(\"sourceIP\") AS \\'Source IP (Unique Count)\\', UniqueCount(\"destinationIP\") AS \\'Destination IP (Unique Count)\\', UniqueCount(\"destinationPort\") AS \\'Destination Port (Unique Count)\\', UniqueCount(qid) AS \\'Event Name (Unique Count)\\', UniqueCount(category) AS \\'Low Level Category (Unique Count)\\', UniqueCount(\"protocolId\") AS \\'Protocol (Unique Count)\\', UniqueCount(\"userName\") AS \\'Username (Unique Count)\\', MAX(\"magnitude\") AS \\'Magnitude (Maximum)\\', SUM(\"eventCount\") AS \\'Event Count (Sum)\\', COUNT(*) AS \\'Count\\' from events GROUP BY logSourceId order by \"Event Count (Sum)\" desc last 6 hours',\n",
       "  'is_shared': True}]"
      ]
     },
     "execution_count": 7,
     "metadata": {},
     "output_type": "execute_result"
    }
   ],
   "source": [
    "method = \"GET\"\n",
    "res_json = do_request(method, url, params)\n",
    "res_json"
   ]
  },
  {
   "cell_type": "code",
   "execution_count": 8,
   "id": "3cc6ea55",
   "metadata": {
    "scrolled": true
   },
   "outputs": [
    {
     "data": {
      "text/plain": [
       "list"
      ]
     },
     "execution_count": 8,
     "metadata": {},
     "output_type": "execute_result"
    }
   ],
   "source": [
    "type(res_json)"
   ]
  },
  {
   "cell_type": "code",
   "execution_count": 9,
   "id": "77f4afac",
   "metadata": {},
   "outputs": [
    {
     "data": {
      "text/plain": [
       "1"
      ]
     },
     "execution_count": 9,
     "metadata": {},
     "output_type": "execute_result"
    }
   ],
   "source": [
    "len(res_json)"
   ]
  },
  {
   "cell_type": "code",
   "execution_count": 10,
   "id": "eca0cc89",
   "metadata": {},
   "outputs": [
    {
     "data": {
      "text/plain": [
       "2721"
      ]
     },
     "execution_count": 10,
     "metadata": {},
     "output_type": "execute_result"
    }
   ],
   "source": [
    "SAVED_SEARCH_ID = res_json[0]['id']\n",
    "SAVED_SEARCH_ID"
   ]
  },
  {
   "cell_type": "code",
   "execution_count": 11,
   "id": "3a49714f",
   "metadata": {},
   "outputs": [
    {
     "data": {
      "text/plain": [
       "{'saved_search_id': 2721}"
      ]
     },
     "execution_count": 11,
     "metadata": {},
     "output_type": "execute_result"
    }
   ],
   "source": [
    "method = \"POST\"\n",
    "url = 'https://192.168.56.144/api/ariel/searches'\n",
    "params = {'saved_search_id':SAVED_SEARCH_ID}\n",
    "params"
   ]
  },
  {
   "cell_type": "code",
   "execution_count": 12,
   "id": "f693ef6b",
   "metadata": {
    "scrolled": true
   },
   "outputs": [
    {
     "name": "stderr",
     "output_type": "stream",
     "text": [
      "/Library/Frameworks/Python.framework/Versions/3.9/lib/python3.9/site-packages/urllib3/connectionpool.py:1013: InsecureRequestWarning: Unverified HTTPS request is being made to host '192.168.56.144'. Adding certificate verification is strongly advised. See: https://urllib3.readthedocs.io/en/1.26.x/advanced-usage.html#ssl-warnings\n",
      "  warnings.warn(\n"
     ]
    },
    {
     "data": {
      "text/plain": [
       "{'cursor_id': '789355dd-2bb9-454a-9d05-26ba4d373d48',\n",
       " 'status': 'WAIT',\n",
       " 'compressed_data_file_count': 0,\n",
       " 'compressed_data_total_size': 0,\n",
       " 'data_file_count': 0,\n",
       " 'data_total_size': 0,\n",
       " 'index_file_count': 0,\n",
       " 'index_total_size': 0,\n",
       " 'processed_record_count': 0,\n",
       " 'desired_retention_time_msec': 86400000,\n",
       " 'progress': 0,\n",
       " 'progress_details': [],\n",
       " 'query_execution_time': 0,\n",
       " 'query_string': 'SELECT logsourcename(logSourceId) AS \\'Log Source\\', UniqueCount(\"sourceIP\") AS \\'Source IP (Unique Count)\\', UniqueCount(\"destinationIP\") AS \\'Destination IP (Unique Count)\\', UniqueCount(\"destinationPort\") AS \\'Destination Port (Unique Count)\\', UniqueCount(qid) AS \\'Event Name (Unique Count)\\', UniqueCount(category) AS \\'Low Level Category (Unique Count)\\', UniqueCount(\"protocolId\") AS \\'Protocol (Unique Count)\\', UniqueCount(\"userName\") AS \\'Username (Unique Count)\\', MAX(\"magnitude\") AS \\'Magnitude (Maximum)\\', SUM(\"eventCount\") AS \\'Event Count (Sum)\\', COUNT(*) AS \\'Count\\' from events GROUP BY logSourceId order by \"Event Count (Sum)\" desc last 6 hours',\n",
       " 'record_count': 0,\n",
       " 'size_on_disk': 0,\n",
       " 'save_results': False,\n",
       " 'completed': False,\n",
       " 'subsearch_ids': [],\n",
       " 'snapshot': None,\n",
       " 'search_id': '789355dd-2bb9-454a-9d05-26ba4d373d48'}"
      ]
     },
     "execution_count": 12,
     "metadata": {},
     "output_type": "execute_result"
    }
   ],
   "source": [
    "res_json = do_request(method, url, params)\n",
    "res_json"
   ]
  },
  {
   "cell_type": "code",
   "execution_count": 13,
   "id": "6f55706d",
   "metadata": {},
   "outputs": [
    {
     "data": {
      "text/plain": [
       "'789355dd-2bb9-454a-9d05-26ba4d373d48'"
      ]
     },
     "execution_count": 13,
     "metadata": {},
     "output_type": "execute_result"
    }
   ],
   "source": [
    "SEARCH_ID = res_json['search_id']\n",
    "SEARCH_ID"
   ]
  },
  {
   "cell_type": "code",
   "execution_count": 14,
   "id": "6be0f04c",
   "metadata": {
    "scrolled": true
   },
   "outputs": [
    {
     "name": "stdout",
     "output_type": "stream",
     "text": [
      "Waiting for 3 seconds...\n",
      "Search Completed\n"
     ]
    },
    {
     "name": "stderr",
     "output_type": "stream",
     "text": [
      "/Library/Frameworks/Python.framework/Versions/3.9/lib/python3.9/site-packages/urllib3/connectionpool.py:1013: InsecureRequestWarning: Unverified HTTPS request is being made to host '192.168.56.144'. Adding certificate verification is strongly advised. See: https://urllib3.readthedocs.io/en/1.26.x/advanced-usage.html#ssl-warnings\n",
      "  warnings.warn(\n",
      "/Library/Frameworks/Python.framework/Versions/3.9/lib/python3.9/site-packages/urllib3/connectionpool.py:1013: InsecureRequestWarning: Unverified HTTPS request is being made to host '192.168.56.144'. Adding certificate verification is strongly advised. See: https://urllib3.readthedocs.io/en/1.26.x/advanced-usage.html#ssl-warnings\n",
      "  warnings.warn(\n"
     ]
    },
    {
     "data": {
      "text/plain": [
       "{'events': [{'Log Source': 'Health Metrics-2 :: localhost',\n",
       "   'Source IP (Unique Count)': 1.0,\n",
       "   'Destination IP (Unique Count)': 1.0,\n",
       "   'Destination Port (Unique Count)': 1.0,\n",
       "   'Event Name (Unique Count)': 1.0,\n",
       "   'Low Level Category (Unique Count)': 1.0,\n",
       "   'Protocol (Unique Count)': 1.0,\n",
       "   'Username (Unique Count)': 0.0,\n",
       "   'Magnitude (Maximum)': 5.0,\n",
       "   'Event Count (Sum)': 113760.0,\n",
       "   'Count': 113760.0},\n",
       "  {'Log Source': 'System Notification-2 :: qradar',\n",
       "   'Source IP (Unique Count)': 2.0,\n",
       "   'Destination IP (Unique Count)': 1.0,\n",
       "   'Destination Port (Unique Count)': 1.0,\n",
       "   'Event Name (Unique Count)': 4.0,\n",
       "   'Low Level Category (Unique Count)': 3.0,\n",
       "   'Protocol (Unique Count)': 1.0,\n",
       "   'Username (Unique Count)': 0.0,\n",
       "   'Magnitude (Maximum)': 7.0,\n",
       "   'Event Count (Sum)': 23362.0,\n",
       "   'Count': 23362.0},\n",
       "  {'Log Source': 'SIM Audit-2 :: qradar',\n",
       "   'Source IP (Unique Count)': 3.0,\n",
       "   'Destination IP (Unique Count)': 1.0,\n",
       "   'Destination Port (Unique Count)': 1.0,\n",
       "   'Event Name (Unique Count)': 7.0,\n",
       "   'Low Level Category (Unique Count)': 2.0,\n",
       "   'Protocol (Unique Count)': 1.0,\n",
       "   'Username (Unique Count)': 4.0,\n",
       "   'Magnitude (Maximum)': 8.0,\n",
       "   'Event Count (Sum)': 146.0,\n",
       "   'Count': 146.0},\n",
       "  {'Log Source': 'Anomaly Detection Engine-2 :: qradar',\n",
       "   'Source IP (Unique Count)': 1.0,\n",
       "   'Destination IP (Unique Count)': 1.0,\n",
       "   'Destination Port (Unique Count)': 1.0,\n",
       "   'Event Name (Unique Count)': 1.0,\n",
       "   'Low Level Category (Unique Count)': 1.0,\n",
       "   'Protocol (Unique Count)': 1.0,\n",
       "   'Username (Unique Count)': 0.0,\n",
       "   'Magnitude (Maximum)': 3.0,\n",
       "   'Event Count (Sum)': 18.0,\n",
       "   'Count': 18.0}]}"
      ]
     },
     "execution_count": 14,
     "metadata": {},
     "output_type": "execute_result"
    }
   ],
   "source": [
    "resp = check_status(\"WAIT\", SEARCH_ID)\n",
    "resp"
   ]
  },
  {
   "cell_type": "code",
   "execution_count": 15,
   "id": "98a82f04",
   "metadata": {
    "scrolled": true
   },
   "outputs": [
    {
     "data": {
      "text/plain": [
       "dict"
      ]
     },
     "execution_count": 15,
     "metadata": {},
     "output_type": "execute_result"
    }
   ],
   "source": [
    "type(resp)"
   ]
  },
  {
   "cell_type": "code",
   "execution_count": 16,
   "id": "3fc169d5",
   "metadata": {},
   "outputs": [
    {
     "data": {
      "text/plain": [
       "list"
      ]
     },
     "execution_count": 16,
     "metadata": {},
     "output_type": "execute_result"
    }
   ],
   "source": [
    "type(resp['events'])"
   ]
  },
  {
   "cell_type": "code",
   "execution_count": 17,
   "id": "8c9a20a2",
   "metadata": {},
   "outputs": [
    {
     "data": {
      "text/plain": [
       "4"
      ]
     },
     "execution_count": 17,
     "metadata": {},
     "output_type": "execute_result"
    }
   ],
   "source": [
    "len(resp['events'])"
   ]
  },
  {
   "cell_type": "code",
   "execution_count": 18,
   "id": "6ec97e97",
   "metadata": {},
   "outputs": [
    {
     "data": {
      "text/plain": [
       "pandas.core.frame.DataFrame"
      ]
     },
     "execution_count": 18,
     "metadata": {},
     "output_type": "execute_result"
    }
   ],
   "source": [
    "df = pandas.json_normalize(resp['events'])\n",
    "type(df)"
   ]
  },
  {
   "cell_type": "code",
   "execution_count": 19,
   "id": "e9f9e1b7",
   "metadata": {
    "scrolled": true
   },
   "outputs": [
    {
     "data": {
      "text/html": [
       "<div>\n",
       "<style scoped>\n",
       "    .dataframe tbody tr th:only-of-type {\n",
       "        vertical-align: middle;\n",
       "    }\n",
       "\n",
       "    .dataframe tbody tr th {\n",
       "        vertical-align: top;\n",
       "    }\n",
       "\n",
       "    .dataframe thead th {\n",
       "        text-align: right;\n",
       "    }\n",
       "</style>\n",
       "<table border=\"1\" class=\"dataframe\">\n",
       "  <thead>\n",
       "    <tr style=\"text-align: right;\">\n",
       "      <th></th>\n",
       "      <th>Log Source</th>\n",
       "      <th>Source IP (Unique Count)</th>\n",
       "      <th>Destination IP (Unique Count)</th>\n",
       "      <th>Destination Port (Unique Count)</th>\n",
       "      <th>Event Name (Unique Count)</th>\n",
       "      <th>Low Level Category (Unique Count)</th>\n",
       "      <th>Protocol (Unique Count)</th>\n",
       "      <th>Username (Unique Count)</th>\n",
       "      <th>Magnitude (Maximum)</th>\n",
       "      <th>Event Count (Sum)</th>\n",
       "      <th>Count</th>\n",
       "    </tr>\n",
       "  </thead>\n",
       "  <tbody>\n",
       "    <tr>\n",
       "      <th>0</th>\n",
       "      <td>Health Metrics-2 :: localhost</td>\n",
       "      <td>1.0</td>\n",
       "      <td>1.0</td>\n",
       "      <td>1.0</td>\n",
       "      <td>1.0</td>\n",
       "      <td>1.0</td>\n",
       "      <td>1.0</td>\n",
       "      <td>0.0</td>\n",
       "      <td>5.0</td>\n",
       "      <td>113760.0</td>\n",
       "      <td>113760.0</td>\n",
       "    </tr>\n",
       "    <tr>\n",
       "      <th>1</th>\n",
       "      <td>System Notification-2 :: qradar</td>\n",
       "      <td>2.0</td>\n",
       "      <td>1.0</td>\n",
       "      <td>1.0</td>\n",
       "      <td>4.0</td>\n",
       "      <td>3.0</td>\n",
       "      <td>1.0</td>\n",
       "      <td>0.0</td>\n",
       "      <td>7.0</td>\n",
       "      <td>23362.0</td>\n",
       "      <td>23362.0</td>\n",
       "    </tr>\n",
       "    <tr>\n",
       "      <th>2</th>\n",
       "      <td>SIM Audit-2 :: qradar</td>\n",
       "      <td>3.0</td>\n",
       "      <td>1.0</td>\n",
       "      <td>1.0</td>\n",
       "      <td>7.0</td>\n",
       "      <td>2.0</td>\n",
       "      <td>1.0</td>\n",
       "      <td>4.0</td>\n",
       "      <td>8.0</td>\n",
       "      <td>146.0</td>\n",
       "      <td>146.0</td>\n",
       "    </tr>\n",
       "    <tr>\n",
       "      <th>3</th>\n",
       "      <td>Anomaly Detection Engine-2 :: qradar</td>\n",
       "      <td>1.0</td>\n",
       "      <td>1.0</td>\n",
       "      <td>1.0</td>\n",
       "      <td>1.0</td>\n",
       "      <td>1.0</td>\n",
       "      <td>1.0</td>\n",
       "      <td>0.0</td>\n",
       "      <td>3.0</td>\n",
       "      <td>18.0</td>\n",
       "      <td>18.0</td>\n",
       "    </tr>\n",
       "  </tbody>\n",
       "</table>\n",
       "</div>"
      ],
      "text/plain": [
       "                             Log Source  Source IP (Unique Count)  \\\n",
       "0         Health Metrics-2 :: localhost                       1.0   \n",
       "1       System Notification-2 :: qradar                       2.0   \n",
       "2                 SIM Audit-2 :: qradar                       3.0   \n",
       "3  Anomaly Detection Engine-2 :: qradar                       1.0   \n",
       "\n",
       "   Destination IP (Unique Count)  Destination Port (Unique Count)  \\\n",
       "0                            1.0                              1.0   \n",
       "1                            1.0                              1.0   \n",
       "2                            1.0                              1.0   \n",
       "3                            1.0                              1.0   \n",
       "\n",
       "   Event Name (Unique Count)  Low Level Category (Unique Count)  \\\n",
       "0                        1.0                                1.0   \n",
       "1                        4.0                                3.0   \n",
       "2                        7.0                                2.0   \n",
       "3                        1.0                                1.0   \n",
       "\n",
       "   Protocol (Unique Count)  Username (Unique Count)  Magnitude (Maximum)  \\\n",
       "0                      1.0                      0.0                  5.0   \n",
       "1                      1.0                      0.0                  7.0   \n",
       "2                      1.0                      4.0                  8.0   \n",
       "3                      1.0                      0.0                  3.0   \n",
       "\n",
       "   Event Count (Sum)     Count  \n",
       "0           113760.0  113760.0  \n",
       "1            23362.0   23362.0  \n",
       "2              146.0     146.0  \n",
       "3               18.0      18.0  "
      ]
     },
     "execution_count": 19,
     "metadata": {},
     "output_type": "execute_result"
    }
   ],
   "source": [
    "df"
   ]
  },
  {
   "cell_type": "code",
   "execution_count": 20,
   "id": "20a23959",
   "metadata": {},
   "outputs": [
    {
     "data": {
      "text/plain": [
       "(4, 11)"
      ]
     },
     "execution_count": 20,
     "metadata": {},
     "output_type": "execute_result"
    }
   ],
   "source": [
    "df.shape"
   ]
  }
 ],
 "metadata": {
  "kernelspec": {
   "display_name": "Python 3 (ipykernel)",
   "language": "python",
   "name": "python3"
  },
  "language_info": {
   "codemirror_mode": {
    "name": "ipython",
    "version": 3
   },
   "file_extension": ".py",
   "mimetype": "text/x-python",
   "name": "python",
   "nbconvert_exporter": "python",
   "pygments_lexer": "ipython3",
   "version": "3.9.7"
  }
 },
 "nbformat": 4,
 "nbformat_minor": 5
}
