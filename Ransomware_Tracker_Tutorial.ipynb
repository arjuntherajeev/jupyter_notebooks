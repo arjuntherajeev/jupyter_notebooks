{
 "cells": [
  {
   "cell_type": "markdown",
   "metadata": {},
   "source": [
    "# Ransomware Tracker Data Analysis with Pandas \n",
    "\n",
    "https://diaryofarjun.com"
   ]
  },
  {
   "cell_type": "code",
   "execution_count": 1,
   "metadata": {},
   "outputs": [],
   "source": [
    "import pandas as pd"
   ]
  },
  {
   "cell_type": "code",
   "execution_count": 2,
   "metadata": {},
   "outputs": [],
   "source": [
    "url = \"https://ransomwaretracker.abuse.ch/feeds/csv/\"\n",
    "df = pd.read_csv(url, encoding=\"latin-1\", skiprows=8)"
   ]
  },
  {
   "cell_type": "code",
   "execution_count": 3,
   "metadata": {
    "scrolled": true
   },
   "outputs": [
    {
     "data": {
      "text/plain": [
       "(13866, 10)"
      ]
     },
     "execution_count": 3,
     "metadata": {},
     "output_type": "execute_result"
    }
   ],
   "source": [
    "df.shape"
   ]
  },
  {
   "cell_type": "code",
   "execution_count": 4,
   "metadata": {},
   "outputs": [
    {
     "data": {
      "text/html": [
       "<div>\n",
       "<style scoped>\n",
       "    .dataframe tbody tr th:only-of-type {\n",
       "        vertical-align: middle;\n",
       "    }\n",
       "\n",
       "    .dataframe tbody tr th {\n",
       "        vertical-align: top;\n",
       "    }\n",
       "\n",
       "    .dataframe thead th {\n",
       "        text-align: right;\n",
       "    }\n",
       "</style>\n",
       "<table border=\"1\" class=\"dataframe\">\n",
       "  <thead>\n",
       "    <tr style=\"text-align: right;\">\n",
       "      <th></th>\n",
       "      <th># Firstseen (UTC)</th>\n",
       "      <th>Threat</th>\n",
       "      <th>Malware</th>\n",
       "      <th>Host</th>\n",
       "      <th>URL</th>\n",
       "      <th>Status</th>\n",
       "      <th>Registrar</th>\n",
       "      <th>IP address(es)</th>\n",
       "      <th>ASN(s)</th>\n",
       "      <th>Country</th>\n",
       "    </tr>\n",
       "  </thead>\n",
       "  <tbody>\n",
       "    <tr>\n",
       "      <th>0</th>\n",
       "      <td>2018-08-12 00:46:13</td>\n",
       "      <td>C2</td>\n",
       "      <td>Locky</td>\n",
       "      <td>83.217.11.193</td>\n",
       "      <td>http://83.217.11.193/linuxsucks.php</td>\n",
       "      <td>offline</td>\n",
       "      <td>NaN</td>\n",
       "      <td>83.217.11.193</td>\n",
       "      <td>199669</td>\n",
       "      <td>RU</td>\n",
       "    </tr>\n",
       "    <tr>\n",
       "      <th>1</th>\n",
       "      <td>2018-08-10 05:43:15</td>\n",
       "      <td>C2</td>\n",
       "      <td>Locky</td>\n",
       "      <td>pagaldaily.com</td>\n",
       "      <td>http://pagaldaily.com/apache_handler.php</td>\n",
       "      <td>offline</td>\n",
       "      <td>Danesco Trading Ltd.</td>\n",
       "      <td>185.82.217.102</td>\n",
       "      <td>59729</td>\n",
       "      <td>BG</td>\n",
       "    </tr>\n",
       "    <tr>\n",
       "      <th>2</th>\n",
       "      <td>2018-08-10 05:43:15</td>\n",
       "      <td>C2</td>\n",
       "      <td>Locky</td>\n",
       "      <td>185.82.217.102</td>\n",
       "      <td>http://185.82.217.102/apache_handler.php</td>\n",
       "      <td>offline</td>\n",
       "      <td>NaN</td>\n",
       "      <td>185.82.217.102</td>\n",
       "      <td>59729</td>\n",
       "      <td>BG</td>\n",
       "    </tr>\n",
       "    <tr>\n",
       "      <th>3</th>\n",
       "      <td>2018-08-09 16:50:50</td>\n",
       "      <td>C2</td>\n",
       "      <td>Locky</td>\n",
       "      <td>91.226.92.204</td>\n",
       "      <td>http://91.226.92.204/checkupdate</td>\n",
       "      <td>offline</td>\n",
       "      <td>NaN</td>\n",
       "      <td>91.226.92.204</td>\n",
       "      <td>12389</td>\n",
       "      <td>RU</td>\n",
       "    </tr>\n",
       "    <tr>\n",
       "      <th>4</th>\n",
       "      <td>2018-08-09 07:16:22</td>\n",
       "      <td>C2</td>\n",
       "      <td>Locky</td>\n",
       "      <td>80.87.202.49</td>\n",
       "      <td>http://80.87.202.49/information.cgi</td>\n",
       "      <td>offline</td>\n",
       "      <td>NaN</td>\n",
       "      <td>80.87.202.49</td>\n",
       "      <td>29182</td>\n",
       "      <td>RU</td>\n",
       "    </tr>\n",
       "  </tbody>\n",
       "</table>\n",
       "</div>"
      ],
      "text/plain": [
       "     # Firstseen (UTC) Threat Malware            Host  \\\n",
       "0  2018-08-12 00:46:13     C2   Locky   83.217.11.193   \n",
       "1  2018-08-10 05:43:15     C2   Locky  pagaldaily.com   \n",
       "2  2018-08-10 05:43:15     C2   Locky  185.82.217.102   \n",
       "3  2018-08-09 16:50:50     C2   Locky   91.226.92.204   \n",
       "4  2018-08-09 07:16:22     C2   Locky    80.87.202.49   \n",
       "\n",
       "                                        URL   Status             Registrar  \\\n",
       "0       http://83.217.11.193/linuxsucks.php  offline                   NaN   \n",
       "1  http://pagaldaily.com/apache_handler.php  offline  Danesco Trading Ltd.   \n",
       "2  http://185.82.217.102/apache_handler.php  offline                   NaN   \n",
       "3          http://91.226.92.204/checkupdate  offline                   NaN   \n",
       "4       http://80.87.202.49/information.cgi  offline                   NaN   \n",
       "\n",
       "   IP address(es)  ASN(s) Country  \n",
       "0   83.217.11.193  199669      RU  \n",
       "1  185.82.217.102   59729      BG  \n",
       "2  185.82.217.102   59729      BG  \n",
       "3   91.226.92.204   12389      RU  \n",
       "4    80.87.202.49   29182      RU  "
      ]
     },
     "execution_count": 4,
     "metadata": {},
     "output_type": "execute_result"
    }
   ],
   "source": [
    "df.head()"
   ]
  },
  {
   "cell_type": "code",
   "execution_count": 5,
   "metadata": {},
   "outputs": [
    {
     "data": {
      "text/html": [
       "<div>\n",
       "<style scoped>\n",
       "    .dataframe tbody tr th:only-of-type {\n",
       "        vertical-align: middle;\n",
       "    }\n",
       "\n",
       "    .dataframe tbody tr th {\n",
       "        vertical-align: top;\n",
       "    }\n",
       "\n",
       "    .dataframe thead th {\n",
       "        text-align: right;\n",
       "    }\n",
       "</style>\n",
       "<table border=\"1\" class=\"dataframe\">\n",
       "  <thead>\n",
       "    <tr style=\"text-align: right;\">\n",
       "      <th></th>\n",
       "      <th># Firstseen (UTC)</th>\n",
       "      <th>Threat</th>\n",
       "      <th>Malware</th>\n",
       "      <th>Host</th>\n",
       "      <th>URL</th>\n",
       "      <th>Status</th>\n",
       "      <th>Registrar</th>\n",
       "      <th>IP address(es)</th>\n",
       "      <th>ASN(s)</th>\n",
       "      <th>Country</th>\n",
       "    </tr>\n",
       "  </thead>\n",
       "  <tbody>\n",
       "    <tr>\n",
       "      <th>13861</th>\n",
       "      <td>2015-03-07 13:46:58</td>\n",
       "      <td>C2</td>\n",
       "      <td>CryptoWall</td>\n",
       "      <td>drdigitalmd.com</td>\n",
       "      <td>http://drdigitalmd.com/img1.php</td>\n",
       "      <td>offline</td>\n",
       "      <td>PDR LTD. D/B/A PUBLICDOMAINREGISTRY.COM</td>\n",
       "      <td>192.210.234.140</td>\n",
       "      <td>36352</td>\n",
       "      <td>US</td>\n",
       "    </tr>\n",
       "    <tr>\n",
       "      <th>13862</th>\n",
       "      <td>2015-03-04 12:10:59</td>\n",
       "      <td>C2</td>\n",
       "      <td>CryptoWall</td>\n",
       "      <td>rajsima87.com</td>\n",
       "      <td>http://rajsima87.com/img2.php</td>\n",
       "      <td>offline</td>\n",
       "      <td>eNom, Inc.</td>\n",
       "      <td>NaN</td>\n",
       "      <td>NaN</td>\n",
       "      <td>NaN</td>\n",
       "    </tr>\n",
       "    <tr>\n",
       "      <th>13863</th>\n",
       "      <td>2015-03-02 04:14:59</td>\n",
       "      <td>C2</td>\n",
       "      <td>CryptoWall</td>\n",
       "      <td>jauregia.net</td>\n",
       "      <td>http://jauregia.net/img5.php</td>\n",
       "      <td>offline</td>\n",
       "      <td>TECNOCRATICA CENTRO DE DATOS, S.L.</td>\n",
       "      <td>185.92.246.115</td>\n",
       "      <td>201446</td>\n",
       "      <td>ES</td>\n",
       "    </tr>\n",
       "    <tr>\n",
       "      <th>13864</th>\n",
       "      <td>2015-03-02 01:18:48</td>\n",
       "      <td>C2</td>\n",
       "      <td>CryptoWall</td>\n",
       "      <td>lzclient.com</td>\n",
       "      <td>http://lzclient.com/img4.php</td>\n",
       "      <td>offline</td>\n",
       "      <td>eNom, Inc.</td>\n",
       "      <td>NaN</td>\n",
       "      <td>NaN</td>\n",
       "      <td>NaN</td>\n",
       "    </tr>\n",
       "    <tr>\n",
       "      <th>13865</th>\n",
       "      <td># of entries: 13865</td>\n",
       "      <td>NaN</td>\n",
       "      <td>NaN</td>\n",
       "      <td>NaN</td>\n",
       "      <td>NaN</td>\n",
       "      <td>NaN</td>\n",
       "      <td>NaN</td>\n",
       "      <td>NaN</td>\n",
       "      <td>NaN</td>\n",
       "      <td>NaN</td>\n",
       "    </tr>\n",
       "  </tbody>\n",
       "</table>\n",
       "</div>"
      ],
      "text/plain": [
       "         # Firstseen (UTC) Threat     Malware             Host  \\\n",
       "13861  2015-03-07 13:46:58     C2  CryptoWall  drdigitalmd.com   \n",
       "13862  2015-03-04 12:10:59     C2  CryptoWall    rajsima87.com   \n",
       "13863  2015-03-02 04:14:59     C2  CryptoWall     jauregia.net   \n",
       "13864  2015-03-02 01:18:48     C2  CryptoWall     lzclient.com   \n",
       "13865  # of entries: 13865    NaN         NaN              NaN   \n",
       "\n",
       "                                   URL   Status  \\\n",
       "13861  http://drdigitalmd.com/img1.php  offline   \n",
       "13862    http://rajsima87.com/img2.php  offline   \n",
       "13863     http://jauregia.net/img5.php  offline   \n",
       "13864     http://lzclient.com/img4.php  offline   \n",
       "13865                              NaN      NaN   \n",
       "\n",
       "                                     Registrar   IP address(es)  ASN(s)  \\\n",
       "13861  PDR LTD. D/B/A PUBLICDOMAINREGISTRY.COM  192.210.234.140   36352   \n",
       "13862                               eNom, Inc.              NaN     NaN   \n",
       "13863       TECNOCRATICA CENTRO DE DATOS, S.L.   185.92.246.115  201446   \n",
       "13864                               eNom, Inc.              NaN     NaN   \n",
       "13865                                      NaN              NaN     NaN   \n",
       "\n",
       "      Country  \n",
       "13861      US  \n",
       "13862     NaN  \n",
       "13863      ES  \n",
       "13864     NaN  \n",
       "13865     NaN  "
      ]
     },
     "execution_count": 5,
     "metadata": {},
     "output_type": "execute_result"
    }
   ],
   "source": [
    "df.tail()"
   ]
  },
  {
   "cell_type": "code",
   "execution_count": 6,
   "metadata": {},
   "outputs": [
    {
     "data": {
      "text/html": [
       "<div>\n",
       "<style scoped>\n",
       "    .dataframe tbody tr th:only-of-type {\n",
       "        vertical-align: middle;\n",
       "    }\n",
       "\n",
       "    .dataframe tbody tr th {\n",
       "        vertical-align: top;\n",
       "    }\n",
       "\n",
       "    .dataframe thead th {\n",
       "        text-align: right;\n",
       "    }\n",
       "</style>\n",
       "<table border=\"1\" class=\"dataframe\">\n",
       "  <thead>\n",
       "    <tr style=\"text-align: right;\">\n",
       "      <th></th>\n",
       "      <th># Firstseen (UTC)</th>\n",
       "      <th>Threat</th>\n",
       "      <th>Malware</th>\n",
       "      <th>Host</th>\n",
       "      <th>URL</th>\n",
       "      <th>Status</th>\n",
       "      <th>Registrar</th>\n",
       "      <th>IP address(es)</th>\n",
       "      <th>ASN(s)</th>\n",
       "      <th>Country</th>\n",
       "    </tr>\n",
       "  </thead>\n",
       "  <tbody>\n",
       "    <tr>\n",
       "      <th>13860</th>\n",
       "      <td>2015-03-30 09:57:07</td>\n",
       "      <td>C2</td>\n",
       "      <td>CryptoWall</td>\n",
       "      <td>daffamedia.com</td>\n",
       "      <td>http://daffamedia.com/wp-content/plugins/wp_mo...</td>\n",
       "      <td>offline</td>\n",
       "      <td>MAFF Inc.</td>\n",
       "      <td>156.237.138.234</td>\n",
       "      <td>134548</td>\n",
       "      <td>US</td>\n",
       "    </tr>\n",
       "    <tr>\n",
       "      <th>13861</th>\n",
       "      <td>2015-03-07 13:46:58</td>\n",
       "      <td>C2</td>\n",
       "      <td>CryptoWall</td>\n",
       "      <td>drdigitalmd.com</td>\n",
       "      <td>http://drdigitalmd.com/img1.php</td>\n",
       "      <td>offline</td>\n",
       "      <td>PDR LTD. D/B/A PUBLICDOMAINREGISTRY.COM</td>\n",
       "      <td>192.210.234.140</td>\n",
       "      <td>36352</td>\n",
       "      <td>US</td>\n",
       "    </tr>\n",
       "    <tr>\n",
       "      <th>13862</th>\n",
       "      <td>2015-03-04 12:10:59</td>\n",
       "      <td>C2</td>\n",
       "      <td>CryptoWall</td>\n",
       "      <td>rajsima87.com</td>\n",
       "      <td>http://rajsima87.com/img2.php</td>\n",
       "      <td>offline</td>\n",
       "      <td>eNom, Inc.</td>\n",
       "      <td>NaN</td>\n",
       "      <td>NaN</td>\n",
       "      <td>NaN</td>\n",
       "    </tr>\n",
       "    <tr>\n",
       "      <th>13863</th>\n",
       "      <td>2015-03-02 04:14:59</td>\n",
       "      <td>C2</td>\n",
       "      <td>CryptoWall</td>\n",
       "      <td>jauregia.net</td>\n",
       "      <td>http://jauregia.net/img5.php</td>\n",
       "      <td>offline</td>\n",
       "      <td>TECNOCRATICA CENTRO DE DATOS, S.L.</td>\n",
       "      <td>185.92.246.115</td>\n",
       "      <td>201446</td>\n",
       "      <td>ES</td>\n",
       "    </tr>\n",
       "    <tr>\n",
       "      <th>13864</th>\n",
       "      <td>2015-03-02 01:18:48</td>\n",
       "      <td>C2</td>\n",
       "      <td>CryptoWall</td>\n",
       "      <td>lzclient.com</td>\n",
       "      <td>http://lzclient.com/img4.php</td>\n",
       "      <td>offline</td>\n",
       "      <td>eNom, Inc.</td>\n",
       "      <td>NaN</td>\n",
       "      <td>NaN</td>\n",
       "      <td>NaN</td>\n",
       "    </tr>\n",
       "  </tbody>\n",
       "</table>\n",
       "</div>"
      ],
      "text/plain": [
       "         # Firstseen (UTC) Threat     Malware             Host  \\\n",
       "13860  2015-03-30 09:57:07     C2  CryptoWall   daffamedia.com   \n",
       "13861  2015-03-07 13:46:58     C2  CryptoWall  drdigitalmd.com   \n",
       "13862  2015-03-04 12:10:59     C2  CryptoWall    rajsima87.com   \n",
       "13863  2015-03-02 04:14:59     C2  CryptoWall     jauregia.net   \n",
       "13864  2015-03-02 01:18:48     C2  CryptoWall     lzclient.com   \n",
       "\n",
       "                                                     URL   Status  \\\n",
       "13860  http://daffamedia.com/wp-content/plugins/wp_mo...  offline   \n",
       "13861                    http://drdigitalmd.com/img1.php  offline   \n",
       "13862                      http://rajsima87.com/img2.php  offline   \n",
       "13863                       http://jauregia.net/img5.php  offline   \n",
       "13864                       http://lzclient.com/img4.php  offline   \n",
       "\n",
       "                                     Registrar   IP address(es)  ASN(s)  \\\n",
       "13860                                MAFF Inc.  156.237.138.234  134548   \n",
       "13861  PDR LTD. D/B/A PUBLICDOMAINREGISTRY.COM  192.210.234.140   36352   \n",
       "13862                               eNom, Inc.              NaN     NaN   \n",
       "13863       TECNOCRATICA CENTRO DE DATOS, S.L.   185.92.246.115  201446   \n",
       "13864                               eNom, Inc.              NaN     NaN   \n",
       "\n",
       "      Country  \n",
       "13860      US  \n",
       "13861      US  \n",
       "13862     NaN  \n",
       "13863      ES  \n",
       "13864     NaN  "
      ]
     },
     "execution_count": 6,
     "metadata": {},
     "output_type": "execute_result"
    }
   ],
   "source": [
    "df.drop(df.tail(1).index,inplace=True)\n",
    "df.tail()"
   ]
  },
  {
   "cell_type": "code",
   "execution_count": 7,
   "metadata": {},
   "outputs": [
    {
     "data": {
      "text/plain": [
       "(13865, 10)"
      ]
     },
     "execution_count": 7,
     "metadata": {},
     "output_type": "execute_result"
    }
   ],
   "source": [
    "df.shape"
   ]
  },
  {
   "cell_type": "code",
   "execution_count": 8,
   "metadata": {},
   "outputs": [
    {
     "data": {
      "text/plain": [
       "['# Firstseen (UTC)',\n",
       " 'Threat',\n",
       " 'Malware',\n",
       " 'Host',\n",
       " 'URL',\n",
       " 'Status',\n",
       " 'Registrar',\n",
       " 'IP address(es)',\n",
       " 'ASN(s)',\n",
       " 'Country']"
      ]
     },
     "execution_count": 8,
     "metadata": {},
     "output_type": "execute_result"
    }
   ],
   "source": [
    "list(df.columns)"
   ]
  },
  {
   "cell_type": "code",
   "execution_count": 9,
   "metadata": {},
   "outputs": [],
   "source": [
    "columns = {'# Firstseen (UTC)': 'Firstseen', 'IP address(es)': 'IPs', 'ASN(s)':'ASNs'}\n",
    "df = df.rename(columns=columns)"
   ]
  },
  {
   "cell_type": "code",
   "execution_count": 10,
   "metadata": {},
   "outputs": [
    {
     "data": {
      "text/html": [
       "<div>\n",
       "<style scoped>\n",
       "    .dataframe tbody tr th:only-of-type {\n",
       "        vertical-align: middle;\n",
       "    }\n",
       "\n",
       "    .dataframe tbody tr th {\n",
       "        vertical-align: top;\n",
       "    }\n",
       "\n",
       "    .dataframe thead th {\n",
       "        text-align: right;\n",
       "    }\n",
       "</style>\n",
       "<table border=\"1\" class=\"dataframe\">\n",
       "  <thead>\n",
       "    <tr style=\"text-align: right;\">\n",
       "      <th></th>\n",
       "      <th>Firstseen</th>\n",
       "      <th>Threat</th>\n",
       "      <th>Malware</th>\n",
       "      <th>Host</th>\n",
       "      <th>URL</th>\n",
       "      <th>Status</th>\n",
       "      <th>Registrar</th>\n",
       "      <th>IPs</th>\n",
       "      <th>ASNs</th>\n",
       "      <th>Country</th>\n",
       "    </tr>\n",
       "  </thead>\n",
       "  <tbody>\n",
       "    <tr>\n",
       "      <th>0</th>\n",
       "      <td>2018-08-12 00:46:13</td>\n",
       "      <td>C2</td>\n",
       "      <td>Locky</td>\n",
       "      <td>83.217.11.193</td>\n",
       "      <td>http://83.217.11.193/linuxsucks.php</td>\n",
       "      <td>offline</td>\n",
       "      <td>NaN</td>\n",
       "      <td>83.217.11.193</td>\n",
       "      <td>199669</td>\n",
       "      <td>RU</td>\n",
       "    </tr>\n",
       "    <tr>\n",
       "      <th>1</th>\n",
       "      <td>2018-08-10 05:43:15</td>\n",
       "      <td>C2</td>\n",
       "      <td>Locky</td>\n",
       "      <td>pagaldaily.com</td>\n",
       "      <td>http://pagaldaily.com/apache_handler.php</td>\n",
       "      <td>offline</td>\n",
       "      <td>Danesco Trading Ltd.</td>\n",
       "      <td>185.82.217.102</td>\n",
       "      <td>59729</td>\n",
       "      <td>BG</td>\n",
       "    </tr>\n",
       "    <tr>\n",
       "      <th>2</th>\n",
       "      <td>2018-08-10 05:43:15</td>\n",
       "      <td>C2</td>\n",
       "      <td>Locky</td>\n",
       "      <td>185.82.217.102</td>\n",
       "      <td>http://185.82.217.102/apache_handler.php</td>\n",
       "      <td>offline</td>\n",
       "      <td>NaN</td>\n",
       "      <td>185.82.217.102</td>\n",
       "      <td>59729</td>\n",
       "      <td>BG</td>\n",
       "    </tr>\n",
       "    <tr>\n",
       "      <th>3</th>\n",
       "      <td>2018-08-09 16:50:50</td>\n",
       "      <td>C2</td>\n",
       "      <td>Locky</td>\n",
       "      <td>91.226.92.204</td>\n",
       "      <td>http://91.226.92.204/checkupdate</td>\n",
       "      <td>offline</td>\n",
       "      <td>NaN</td>\n",
       "      <td>91.226.92.204</td>\n",
       "      <td>12389</td>\n",
       "      <td>RU</td>\n",
       "    </tr>\n",
       "    <tr>\n",
       "      <th>4</th>\n",
       "      <td>2018-08-09 07:16:22</td>\n",
       "      <td>C2</td>\n",
       "      <td>Locky</td>\n",
       "      <td>80.87.202.49</td>\n",
       "      <td>http://80.87.202.49/information.cgi</td>\n",
       "      <td>offline</td>\n",
       "      <td>NaN</td>\n",
       "      <td>80.87.202.49</td>\n",
       "      <td>29182</td>\n",
       "      <td>RU</td>\n",
       "    </tr>\n",
       "  </tbody>\n",
       "</table>\n",
       "</div>"
      ],
      "text/plain": [
       "             Firstseen Threat Malware            Host  \\\n",
       "0  2018-08-12 00:46:13     C2   Locky   83.217.11.193   \n",
       "1  2018-08-10 05:43:15     C2   Locky  pagaldaily.com   \n",
       "2  2018-08-10 05:43:15     C2   Locky  185.82.217.102   \n",
       "3  2018-08-09 16:50:50     C2   Locky   91.226.92.204   \n",
       "4  2018-08-09 07:16:22     C2   Locky    80.87.202.49   \n",
       "\n",
       "                                        URL   Status             Registrar  \\\n",
       "0       http://83.217.11.193/linuxsucks.php  offline                   NaN   \n",
       "1  http://pagaldaily.com/apache_handler.php  offline  Danesco Trading Ltd.   \n",
       "2  http://185.82.217.102/apache_handler.php  offline                   NaN   \n",
       "3          http://91.226.92.204/checkupdate  offline                   NaN   \n",
       "4       http://80.87.202.49/information.cgi  offline                   NaN   \n",
       "\n",
       "              IPs    ASNs Country  \n",
       "0   83.217.11.193  199669      RU  \n",
       "1  185.82.217.102   59729      BG  \n",
       "2  185.82.217.102   59729      BG  \n",
       "3   91.226.92.204   12389      RU  \n",
       "4    80.87.202.49   29182      RU  "
      ]
     },
     "execution_count": 10,
     "metadata": {},
     "output_type": "execute_result"
    }
   ],
   "source": [
    "df.head()"
   ]
  },
  {
   "cell_type": "code",
   "execution_count": 11,
   "metadata": {},
   "outputs": [
    {
     "data": {
      "text/plain": [
       "str"
      ]
     },
     "execution_count": 11,
     "metadata": {},
     "output_type": "execute_result"
    }
   ],
   "source": [
    "s_dt = '2018-08-12 00:46:13'\n",
    "type(s_dt)"
   ]
  },
  {
   "cell_type": "code",
   "execution_count": 12,
   "metadata": {},
   "outputs": [
    {
     "data": {
      "text/plain": [
       "datetime.datetime"
      ]
     },
     "execution_count": 12,
     "metadata": {},
     "output_type": "execute_result"
    }
   ],
   "source": [
    "import datetime\n",
    "o_dt = datetime.datetime.strptime(s_dt,'%Y-%m-%d %H:%M:%S')\n",
    "type(o_dt)"
   ]
  },
  {
   "cell_type": "code",
   "execution_count": 13,
   "metadata": {},
   "outputs": [
    {
     "data": {
      "text/plain": [
       "'12-08-2018'"
      ]
     },
     "execution_count": 13,
     "metadata": {},
     "output_type": "execute_result"
    }
   ],
   "source": [
    "s1_dt = o_dt.strftime(\"%d-%m-%Y\")\n",
    "s1_dt"
   ]
  },
  {
   "cell_type": "code",
   "execution_count": 14,
   "metadata": {},
   "outputs": [
    {
     "data": {
      "text/plain": [
       "str"
      ]
     },
     "execution_count": 14,
     "metadata": {},
     "output_type": "execute_result"
    }
   ],
   "source": [
    "type(s1_dt)"
   ]
  },
  {
   "cell_type": "code",
   "execution_count": 15,
   "metadata": {},
   "outputs": [],
   "source": [
    "df['Firstseen'] = df['Firstseen'].apply(lambda x: datetime.datetime.strptime(x,'%Y-%m-%d %H:%M:%S').strftime(\"%d-%m-%Y\"))"
   ]
  },
  {
   "cell_type": "code",
   "execution_count": 16,
   "metadata": {
    "scrolled": false
   },
   "outputs": [
    {
     "data": {
      "text/html": [
       "<div>\n",
       "<style scoped>\n",
       "    .dataframe tbody tr th:only-of-type {\n",
       "        vertical-align: middle;\n",
       "    }\n",
       "\n",
       "    .dataframe tbody tr th {\n",
       "        vertical-align: top;\n",
       "    }\n",
       "\n",
       "    .dataframe thead th {\n",
       "        text-align: right;\n",
       "    }\n",
       "</style>\n",
       "<table border=\"1\" class=\"dataframe\">\n",
       "  <thead>\n",
       "    <tr style=\"text-align: right;\">\n",
       "      <th></th>\n",
       "      <th>Firstseen</th>\n",
       "      <th>Threat</th>\n",
       "      <th>Malware</th>\n",
       "      <th>Host</th>\n",
       "      <th>URL</th>\n",
       "      <th>Status</th>\n",
       "      <th>Registrar</th>\n",
       "      <th>IPs</th>\n",
       "      <th>ASNs</th>\n",
       "      <th>Country</th>\n",
       "    </tr>\n",
       "  </thead>\n",
       "  <tbody>\n",
       "    <tr>\n",
       "      <th>0</th>\n",
       "      <td>12-08-2018</td>\n",
       "      <td>C2</td>\n",
       "      <td>Locky</td>\n",
       "      <td>83.217.11.193</td>\n",
       "      <td>http://83.217.11.193/linuxsucks.php</td>\n",
       "      <td>offline</td>\n",
       "      <td>NaN</td>\n",
       "      <td>83.217.11.193</td>\n",
       "      <td>199669</td>\n",
       "      <td>RU</td>\n",
       "    </tr>\n",
       "    <tr>\n",
       "      <th>1</th>\n",
       "      <td>10-08-2018</td>\n",
       "      <td>C2</td>\n",
       "      <td>Locky</td>\n",
       "      <td>pagaldaily.com</td>\n",
       "      <td>http://pagaldaily.com/apache_handler.php</td>\n",
       "      <td>offline</td>\n",
       "      <td>Danesco Trading Ltd.</td>\n",
       "      <td>185.82.217.102</td>\n",
       "      <td>59729</td>\n",
       "      <td>BG</td>\n",
       "    </tr>\n",
       "    <tr>\n",
       "      <th>2</th>\n",
       "      <td>10-08-2018</td>\n",
       "      <td>C2</td>\n",
       "      <td>Locky</td>\n",
       "      <td>185.82.217.102</td>\n",
       "      <td>http://185.82.217.102/apache_handler.php</td>\n",
       "      <td>offline</td>\n",
       "      <td>NaN</td>\n",
       "      <td>185.82.217.102</td>\n",
       "      <td>59729</td>\n",
       "      <td>BG</td>\n",
       "    </tr>\n",
       "    <tr>\n",
       "      <th>3</th>\n",
       "      <td>09-08-2018</td>\n",
       "      <td>C2</td>\n",
       "      <td>Locky</td>\n",
       "      <td>91.226.92.204</td>\n",
       "      <td>http://91.226.92.204/checkupdate</td>\n",
       "      <td>offline</td>\n",
       "      <td>NaN</td>\n",
       "      <td>91.226.92.204</td>\n",
       "      <td>12389</td>\n",
       "      <td>RU</td>\n",
       "    </tr>\n",
       "    <tr>\n",
       "      <th>4</th>\n",
       "      <td>09-08-2018</td>\n",
       "      <td>C2</td>\n",
       "      <td>Locky</td>\n",
       "      <td>80.87.202.49</td>\n",
       "      <td>http://80.87.202.49/information.cgi</td>\n",
       "      <td>offline</td>\n",
       "      <td>NaN</td>\n",
       "      <td>80.87.202.49</td>\n",
       "      <td>29182</td>\n",
       "      <td>RU</td>\n",
       "    </tr>\n",
       "  </tbody>\n",
       "</table>\n",
       "</div>"
      ],
      "text/plain": [
       "    Firstseen Threat Malware            Host  \\\n",
       "0  12-08-2018     C2   Locky   83.217.11.193   \n",
       "1  10-08-2018     C2   Locky  pagaldaily.com   \n",
       "2  10-08-2018     C2   Locky  185.82.217.102   \n",
       "3  09-08-2018     C2   Locky   91.226.92.204   \n",
       "4  09-08-2018     C2   Locky    80.87.202.49   \n",
       "\n",
       "                                        URL   Status             Registrar  \\\n",
       "0       http://83.217.11.193/linuxsucks.php  offline                   NaN   \n",
       "1  http://pagaldaily.com/apache_handler.php  offline  Danesco Trading Ltd.   \n",
       "2  http://185.82.217.102/apache_handler.php  offline                   NaN   \n",
       "3          http://91.226.92.204/checkupdate  offline                   NaN   \n",
       "4       http://80.87.202.49/information.cgi  offline                   NaN   \n",
       "\n",
       "              IPs    ASNs Country  \n",
       "0   83.217.11.193  199669      RU  \n",
       "1  185.82.217.102   59729      BG  \n",
       "2  185.82.217.102   59729      BG  \n",
       "3   91.226.92.204   12389      RU  \n",
       "4    80.87.202.49   29182      RU  "
      ]
     },
     "execution_count": 16,
     "metadata": {},
     "output_type": "execute_result"
    }
   ],
   "source": [
    "df.head()"
   ]
  },
  {
   "cell_type": "code",
   "execution_count": 17,
   "metadata": {
    "scrolled": true
   },
   "outputs": [
    {
     "data": {
      "text/plain": [
       "Threat\n",
       "Distribution Site    11297\n",
       "Payment Site          1660\n",
       "C2                     908\n",
       "dtype: int64"
      ]
     },
     "execution_count": 17,
     "metadata": {},
     "output_type": "execute_result"
    }
   ],
   "source": [
    "df.groupby('Threat').size().sort_values(ascending=False)"
   ]
  },
  {
   "cell_type": "code",
   "execution_count": 19,
   "metadata": {
    "scrolled": true
   },
   "outputs": [
    {
     "data": {
      "text/plain": [
       "<matplotlib.axes._subplots.AxesSubplot at 0x1194eecc0>"
      ]
     },
     "execution_count": 19,
     "metadata": {},
     "output_type": "execute_result"
    },
    {
     "data": {
      "image/png": "[encoded data removed]",
      "text/plain": [
       "<Figure size 432x288 with 1 Axes>"
      ]
     },
     "metadata": {
      "needs_background": "light"
     },
     "output_type": "display_data"
    }
   ],
   "source": [
    "df.groupby(['Threat']).size().sort_values(ascending=False).plot(kind='barh')"
   ]
  },
  {
   "cell_type": "code",
   "execution_count": 20,
   "metadata": {},
   "outputs": [
    {
     "data": {
      "text/html": [
       "<div>\n",
       "<style scoped>\n",
       "    .dataframe tbody tr th:only-of-type {\n",
       "        vertical-align: middle;\n",
       "    }\n",
       "\n",
       "    .dataframe tbody tr th {\n",
       "        vertical-align: top;\n",
       "    }\n",
       "\n",
       "    .dataframe thead th {\n",
       "        text-align: right;\n",
       "    }\n",
       "</style>\n",
       "<table border=\"1\" class=\"dataframe\">\n",
       "  <thead>\n",
       "    <tr style=\"text-align: right;\">\n",
       "      <th></th>\n",
       "      <th>Firstseen</th>\n",
       "      <th>Threat</th>\n",
       "      <th>Malware</th>\n",
       "      <th>Host</th>\n",
       "      <th>URL</th>\n",
       "      <th>Status</th>\n",
       "      <th>Registrar</th>\n",
       "      <th>IPs</th>\n",
       "      <th>ASNs</th>\n",
       "      <th>Country</th>\n",
       "    </tr>\n",
       "  </thead>\n",
       "  <tbody>\n",
       "    <tr>\n",
       "      <th>0</th>\n",
       "      <td>12-08-2018</td>\n",
       "      <td>C2</td>\n",
       "      <td>Locky</td>\n",
       "      <td>83.217.11.193</td>\n",
       "      <td>http://83.217.11.193/linuxsucks.php</td>\n",
       "      <td>offline</td>\n",
       "      <td>NaN</td>\n",
       "      <td>83.217.11.193</td>\n",
       "      <td>199669</td>\n",
       "      <td>RU</td>\n",
       "    </tr>\n",
       "    <tr>\n",
       "      <th>1</th>\n",
       "      <td>10-08-2018</td>\n",
       "      <td>C2</td>\n",
       "      <td>Locky</td>\n",
       "      <td>pagaldaily.com</td>\n",
       "      <td>http://pagaldaily.com/apache_handler.php</td>\n",
       "      <td>offline</td>\n",
       "      <td>Danesco Trading Ltd.</td>\n",
       "      <td>185.82.217.102</td>\n",
       "      <td>59729</td>\n",
       "      <td>BG</td>\n",
       "    </tr>\n",
       "    <tr>\n",
       "      <th>2</th>\n",
       "      <td>10-08-2018</td>\n",
       "      <td>C2</td>\n",
       "      <td>Locky</td>\n",
       "      <td>185.82.217.102</td>\n",
       "      <td>http://185.82.217.102/apache_handler.php</td>\n",
       "      <td>offline</td>\n",
       "      <td>NaN</td>\n",
       "      <td>185.82.217.102</td>\n",
       "      <td>59729</td>\n",
       "      <td>BG</td>\n",
       "    </tr>\n",
       "    <tr>\n",
       "      <th>3</th>\n",
       "      <td>09-08-2018</td>\n",
       "      <td>C2</td>\n",
       "      <td>Locky</td>\n",
       "      <td>91.226.92.204</td>\n",
       "      <td>http://91.226.92.204/checkupdate</td>\n",
       "      <td>offline</td>\n",
       "      <td>NaN</td>\n",
       "      <td>91.226.92.204</td>\n",
       "      <td>12389</td>\n",
       "      <td>RU</td>\n",
       "    </tr>\n",
       "    <tr>\n",
       "      <th>4</th>\n",
       "      <td>09-08-2018</td>\n",
       "      <td>C2</td>\n",
       "      <td>Locky</td>\n",
       "      <td>80.87.202.49</td>\n",
       "      <td>http://80.87.202.49/information.cgi</td>\n",
       "      <td>offline</td>\n",
       "      <td>NaN</td>\n",
       "      <td>80.87.202.49</td>\n",
       "      <td>29182</td>\n",
       "      <td>RU</td>\n",
       "    </tr>\n",
       "  </tbody>\n",
       "</table>\n",
       "</div>"
      ],
      "text/plain": [
       "    Firstseen Threat Malware            Host  \\\n",
       "0  12-08-2018     C2   Locky   83.217.11.193   \n",
       "1  10-08-2018     C2   Locky  pagaldaily.com   \n",
       "2  10-08-2018     C2   Locky  185.82.217.102   \n",
       "3  09-08-2018     C2   Locky   91.226.92.204   \n",
       "4  09-08-2018     C2   Locky    80.87.202.49   \n",
       "\n",
       "                                        URL   Status             Registrar  \\\n",
       "0       http://83.217.11.193/linuxsucks.php  offline                   NaN   \n",
       "1  http://pagaldaily.com/apache_handler.php  offline  Danesco Trading Ltd.   \n",
       "2  http://185.82.217.102/apache_handler.php  offline                   NaN   \n",
       "3          http://91.226.92.204/checkupdate  offline                   NaN   \n",
       "4       http://80.87.202.49/information.cgi  offline                   NaN   \n",
       "\n",
       "              IPs    ASNs Country  \n",
       "0   83.217.11.193  199669      RU  \n",
       "1  185.82.217.102   59729      BG  \n",
       "2  185.82.217.102   59729      BG  \n",
       "3   91.226.92.204   12389      RU  \n",
       "4    80.87.202.49   29182      RU  "
      ]
     },
     "execution_count": 20,
     "metadata": {},
     "output_type": "execute_result"
    }
   ],
   "source": [
    "df.head()"
   ]
  },
  {
   "cell_type": "code",
   "execution_count": 21,
   "metadata": {
    "scrolled": false
   },
   "outputs": [
    {
     "data": {
      "text/plain": [
       "Firstseen         object\n",
       "Threat            object\n",
       "Malware           object\n",
       "Host              object\n",
       "URL               object\n",
       "Status            object\n",
       "Registrar         object\n",
       "IPs               object\n",
       "ASNs              object\n",
       "Country           object\n",
       "Firstseen_year    object\n",
       "dtype: object"
      ]
     },
     "execution_count": 21,
     "metadata": {},
     "output_type": "execute_result"
    }
   ],
   "source": [
    "df['Firstseen_year'] = df['Firstseen'].apply(lambda x: datetime.datetime.strptime(x,'%d-%m-%Y').strftime(\"%Y\"))\n",
    "df.dtypes"
   ]
  },
  {
   "cell_type": "code",
   "execution_count": 22,
   "metadata": {},
   "outputs": [
    {
     "data": {
      "text/plain": [
       "Firstseen                 object\n",
       "Threat                    object\n",
       "Malware                   object\n",
       "Host                      object\n",
       "URL                       object\n",
       "Status                    object\n",
       "Registrar                 object\n",
       "IPs                       object\n",
       "ASNs                      object\n",
       "Country                   object\n",
       "Firstseen_year    datetime64[ns]\n",
       "dtype: object"
      ]
     },
     "execution_count": 22,
     "metadata": {},
     "output_type": "execute_result"
    }
   ],
   "source": [
    "df['Firstseen_year'] = df['Firstseen_year'].astype('datetime64[ns]')\n",
    "df.dtypes"
   ]
  },
  {
   "cell_type": "code",
   "execution_count": 23,
   "metadata": {},
   "outputs": [
    {
     "data": {
      "text/html": [
       "<div>\n",
       "<style scoped>\n",
       "    .dataframe tbody tr th:only-of-type {\n",
       "        vertical-align: middle;\n",
       "    }\n",
       "\n",
       "    .dataframe tbody tr th {\n",
       "        vertical-align: top;\n",
       "    }\n",
       "\n",
       "    .dataframe thead th {\n",
       "        text-align: right;\n",
       "    }\n",
       "</style>\n",
       "<table border=\"1\" class=\"dataframe\">\n",
       "  <thead>\n",
       "    <tr style=\"text-align: right;\">\n",
       "      <th></th>\n",
       "      <th>Firstseen</th>\n",
       "      <th>Firstseen_year</th>\n",
       "    </tr>\n",
       "  </thead>\n",
       "  <tbody>\n",
       "    <tr>\n",
       "      <th>0</th>\n",
       "      <td>12-08-2018</td>\n",
       "      <td>2018</td>\n",
       "    </tr>\n",
       "    <tr>\n",
       "      <th>1</th>\n",
       "      <td>10-08-2018</td>\n",
       "      <td>2018</td>\n",
       "    </tr>\n",
       "    <tr>\n",
       "      <th>2</th>\n",
       "      <td>10-08-2018</td>\n",
       "      <td>2018</td>\n",
       "    </tr>\n",
       "    <tr>\n",
       "      <th>3</th>\n",
       "      <td>09-08-2018</td>\n",
       "      <td>2018</td>\n",
       "    </tr>\n",
       "    <tr>\n",
       "      <th>4</th>\n",
       "      <td>09-08-2018</td>\n",
       "      <td>2018</td>\n",
       "    </tr>\n",
       "  </tbody>\n",
       "</table>\n",
       "</div>"
      ],
      "text/plain": [
       "    Firstseen  Firstseen_year\n",
       "0  12-08-2018            2018\n",
       "1  10-08-2018            2018\n",
       "2  10-08-2018            2018\n",
       "3  09-08-2018            2018\n",
       "4  09-08-2018            2018"
      ]
     },
     "execution_count": 23,
     "metadata": {},
     "output_type": "execute_result"
    }
   ],
   "source": [
    "df['Firstseen_year'] = df['Firstseen_year'].dt.year\n",
    "df[['Firstseen','Firstseen_year']].head()"
   ]
  },
  {
   "cell_type": "code",
   "execution_count": 24,
   "metadata": {},
   "outputs": [
    {
     "data": {
      "text/plain": [
       "Firstseen         object\n",
       "Threat            object\n",
       "Malware           object\n",
       "Host              object\n",
       "URL               object\n",
       "Status            object\n",
       "Registrar         object\n",
       "IPs               object\n",
       "ASNs              object\n",
       "Country           object\n",
       "Firstseen_year     int64\n",
       "dtype: object"
      ]
     },
     "execution_count": 24,
     "metadata": {},
     "output_type": "execute_result"
    }
   ],
   "source": [
    "df.dtypes"
   ]
  },
  {
   "cell_type": "code",
   "execution_count": 25,
   "metadata": {},
   "outputs": [
    {
     "data": {
      "text/html": [
       "<div>\n",
       "<style scoped>\n",
       "    .dataframe tbody tr th:only-of-type {\n",
       "        vertical-align: middle;\n",
       "    }\n",
       "\n",
       "    .dataframe tbody tr th {\n",
       "        vertical-align: top;\n",
       "    }\n",
       "\n",
       "    .dataframe thead th {\n",
       "        text-align: right;\n",
       "    }\n",
       "</style>\n",
       "<table border=\"1\" class=\"dataframe\">\n",
       "  <thead>\n",
       "    <tr style=\"text-align: right;\">\n",
       "      <th></th>\n",
       "      <th>Malware</th>\n",
       "    </tr>\n",
       "    <tr>\n",
       "      <th>Firstseen_year</th>\n",
       "      <th></th>\n",
       "    </tr>\n",
       "  </thead>\n",
       "  <tbody>\n",
       "    <tr>\n",
       "      <th>2018</th>\n",
       "      <td>35</td>\n",
       "    </tr>\n",
       "    <tr>\n",
       "      <th>2017</th>\n",
       "      <td>1297</td>\n",
       "    </tr>\n",
       "    <tr>\n",
       "      <th>2016</th>\n",
       "      <td>12496</td>\n",
       "    </tr>\n",
       "    <tr>\n",
       "      <th>2015</th>\n",
       "      <td>37</td>\n",
       "    </tr>\n",
       "  </tbody>\n",
       "</table>\n",
       "</div>"
      ],
      "text/plain": [
       "                Malware\n",
       "Firstseen_year         \n",
       "2018                 35\n",
       "2017               1297\n",
       "2016              12496\n",
       "2015                 37"
      ]
     },
     "execution_count": 25,
     "metadata": {},
     "output_type": "execute_result"
    }
   ],
   "source": [
    "df[['Firstseen_year','Malware']].groupby('Firstseen_year').count().sort_values(by='Firstseen_year', ascending=False)"
   ]
  },
  {
   "cell_type": "code",
   "execution_count": 26,
   "metadata": {},
   "outputs": [
    {
     "data": {
      "text/plain": [
       "Text(0.5, 1.0, 'Yearly Malware Trend - Ransomware Tracker')"
      ]
     },
     "execution_count": 26,
     "metadata": {},
     "output_type": "execute_result"
    },
    {
     "data": {
      "image/png": "[encoded data removed]",
      "text/plain": [
       "<Figure size 1440x360 with 1 Axes>"
      ]
     },
     "metadata": {
      "needs_background": "light"
     },
     "output_type": "display_data"
    }
   ],
   "source": [
    "ax = df[['Firstseen_year','Malware']].groupby('Firstseen_year').count().sort_values(by='Firstseen_year', ascending=False).plot(kind='area', figsize=(20,5))\n",
    "ax.set_xlabel(\"Firstseen Year\")\n",
    "ax.set_ylabel(\"Number of Malware\")\n",
    "ax.set_title(\"Yearly Malware Trend - Ransomware Tracker\")"
   ]
  },
  {
   "cell_type": "code",
   "execution_count": 27,
   "metadata": {},
   "outputs": [
    {
     "data": {
      "text/plain": [
       "Firstseen_year  Threat           \n",
       "2015            C2                      37\n",
       "2016            C2                     709\n",
       "                Distribution Site    10441\n",
       "                Payment Site          1346\n",
       "2017            C2                     140\n",
       "                Distribution Site      843\n",
       "                Payment Site           314\n",
       "2018            C2                      22\n",
       "                Distribution Site       13\n",
       "dtype: int64"
      ]
     },
     "execution_count": 27,
     "metadata": {},
     "output_type": "execute_result"
    }
   ],
   "source": [
    "df.groupby(['Firstseen_year','Threat']).size()"
   ]
  },
  {
   "cell_type": "code",
   "execution_count": 28,
   "metadata": {},
   "outputs": [
    {
     "data": {
      "text/plain": [
       "Text(0.5, 1.0, 'Malware per Threat per Year - Ransomware Tracker')"
      ]
     },
     "execution_count": 28,
     "metadata": {},
     "output_type": "execute_result"
    },
    {
     "data": {
      "image/png": "[encoded data removed]",
      "text/plain": [
       "<Figure size 1440x360 with 1 Axes>"
      ]
     },
     "metadata": {
      "needs_background": "light"
     },
     "output_type": "display_data"
    }
   ],
   "source": [
    "ax = df.groupby(['Firstseen_year','Threat']).size().unstack().plot(kind='area',stacked=True,figsize=(20,5))\n",
    "ax.set_xlabel(\"Firstseen Year\")\n",
    "ax.set_ylabel(\"Number of Malware\")\n",
    "ax.set_title(\"Malware per Threat per Year - Ransomware Tracker\")"
   ]
  }
 ],
 "metadata": {
  "kernelspec": {
   "display_name": "Python 3",
   "language": "python",
   "name": "python3"
  },
  "language_info": {
   "codemirror_mode": {
    "name": "ipython",
    "version": 3
   },
   "file_extension": ".py",
   "mimetype": "text/x-python",
   "name": "python",
   "nbconvert_exporter": "python",
   "pygments_lexer": "ipython3",
   "version": "3.7.1"
  }
 },
 "nbformat": 4,
 "nbformat_minor": 2
}
